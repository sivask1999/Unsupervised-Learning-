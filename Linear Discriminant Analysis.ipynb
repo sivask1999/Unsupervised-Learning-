{
 "cells": [
  {
   "cell_type": "code",
   "execution_count": 41,
   "id": "99160327-51e6-4906-90e8-c4ade264a8b8",
   "metadata": {},
   "outputs": [
    {
     "name": "stdout",
     "output_type": "stream",
     "text": [
      "Number of features: 30\n",
      "Dimension after LDA: 1\n"
     ]
    }
   ],
   "source": [
    "from sklearn.datasets import load_breast_cancer\n",
    "from sklearn.preprocessing import StandardScaler\n",
    "from sklearn.discriminant_analysis import LinearDiscriminantAnalysis as LDA\n",
    "\n",
    "# Load the breast cancer dataset\n",
    "cancer = load_breast_cancer()\n",
    "\n",
    "# Print the dimensions of the dataset (number of features)\n",
    "print(\"Number of features:\", cancer.data.shape[1])\n",
    "\n",
    "# Apply LDA\n",
    "lda = LDA(n_components=1)\n",
    "X_lda = lda.fit_transform(cancer.data, cancer.target)\n",
    "\n",
    "# Print the dimensions of the transformed dataset\n",
    "print(\"Dimension after LDA:\", X_lda.shape[1])\n"
   ]
  },
  {
   "cell_type": "code",
   "execution_count": 42,
   "id": "aaec7c51-2a91-4a76-9e31-ae40f188ee61",
   "metadata": {
    "scrolled": true
   },
   "outputs": [
    {
     "data": {
      "image/png": "[encoded data removed]",
      "text/plain": [
       "<Figure size 800x600 with 1 Axes>"
      ]
     },
     "metadata": {},
     "output_type": "display_data"
    }
   ],
   "source": [
    "import matplotlib.pyplot as plt\n",
    "\n",
    "# Plot histogram of the transformed data\n",
    "plt.figure(figsize=(8, 6))\n",
    "plt.hist(X_lda, bins=30, edgecolor='k')\n",
    "plt.xlabel('LDA Transformed Data')\n",
    "plt.ylabel('Frequency')\n",
    "plt.title('Histogram of LDA Transformed Data')\n",
    "plt.grid(True)\n",
    "plt.show()\n"
   ]
  },
  {
   "cell_type": "code",
   "execution_count": 47,
   "id": "0d6e7e21-95d6-45b3-a722-62bb15ad4bee",
   "metadata": {},
   "outputs": [],
   "source": [
    "df = pd.read_csv('winequality-red.csv')"
   ]
  },
  {
   "cell_type": "code",
   "execution_count": 96,
   "id": "3c798209-a31a-41aa-8aa0-234aac2f5d4f",
   "metadata": {},
   "outputs": [
    {
     "data": {
      "text/plain": [
       "(1599, 12)"
      ]
     },
     "execution_count": 96,
     "metadata": {},
     "output_type": "execute_result"
    }
   ],
   "source": [
    "df.shape"
   ]
  },
  {
   "cell_type": "code",
   "execution_count": null,
   "id": "29d12a6e-697b-42dc-9ae2-ecdf29f04785",
   "metadata": {},
   "outputs": [],
   "source": []
  },
  {
   "cell_type": "code",
   "execution_count": null,
   "id": "0a533d76-ffc3-4a70-8f71-fa996704a61b",
   "metadata": {},
   "outputs": [],
   "source": []
  },
  {
   "cell_type": "code",
   "execution_count": 48,
   "id": "3af8ef6d-b489-493a-978f-dc65db0ab8d5",
   "metadata": {},
   "outputs": [
    {
     "data": {
      "text/plain": [
       "(1599, 12)"
      ]
     },
     "execution_count": 48,
     "metadata": {},
     "output_type": "execute_result"
    }
   ],
   "source": [
    "df.shape"
   ]
  },
  {
   "cell_type": "code",
   "execution_count": 49,
   "id": "4d395153-39fb-4b61-bb13-00bf860e10bc",
   "metadata": {},
   "outputs": [
    {
     "data": {
      "text/html": [
       "<div>\n",
       "<style scoped>\n",
       "    .dataframe tbody tr th:only-of-type {\n",
       "        vertical-align: middle;\n",
       "    }\n",
       "\n",
       "    .dataframe tbody tr th {\n",
       "        vertical-align: top;\n",
       "    }\n",
       "\n",
       "    .dataframe thead th {\n",
       "        text-align: right;\n",
       "    }\n",
       "</style>\n",
       "<table border=\"1\" class=\"dataframe\">\n",
       "  <thead>\n",
       "    <tr style=\"text-align: right;\">\n",
       "      <th></th>\n",
       "      <th>fixed acidity</th>\n",
       "      <th>volatile acidity</th>\n",
       "      <th>citric acid</th>\n",
       "      <th>residual sugar</th>\n",
       "      <th>chlorides</th>\n",
       "      <th>free sulfur dioxide</th>\n",
       "      <th>total sulfur dioxide</th>\n",
       "      <th>density</th>\n",
       "      <th>pH</th>\n",
       "      <th>sulphates</th>\n",
       "      <th>alcohol</th>\n",
       "      <th>quality</th>\n",
       "    </tr>\n",
       "  </thead>\n",
       "  <tbody>\n",
       "    <tr>\n",
       "      <th>0</th>\n",
       "      <td>7.4</td>\n",
       "      <td>0.70</td>\n",
       "      <td>0.00</td>\n",
       "      <td>1.9</td>\n",
       "      <td>0.076</td>\n",
       "      <td>11.0</td>\n",
       "      <td>34.0</td>\n",
       "      <td>0.9978</td>\n",
       "      <td>3.51</td>\n",
       "      <td>0.56</td>\n",
       "      <td>9.4</td>\n",
       "      <td>5</td>\n",
       "    </tr>\n",
       "    <tr>\n",
       "      <th>1</th>\n",
       "      <td>7.8</td>\n",
       "      <td>0.88</td>\n",
       "      <td>0.00</td>\n",
       "      <td>2.6</td>\n",
       "      <td>0.098</td>\n",
       "      <td>25.0</td>\n",
       "      <td>67.0</td>\n",
       "      <td>0.9968</td>\n",
       "      <td>3.20</td>\n",
       "      <td>0.68</td>\n",
       "      <td>9.8</td>\n",
       "      <td>5</td>\n",
       "    </tr>\n",
       "    <tr>\n",
       "      <th>2</th>\n",
       "      <td>7.8</td>\n",
       "      <td>0.76</td>\n",
       "      <td>0.04</td>\n",
       "      <td>2.3</td>\n",
       "      <td>0.092</td>\n",
       "      <td>15.0</td>\n",
       "      <td>54.0</td>\n",
       "      <td>0.9970</td>\n",
       "      <td>3.26</td>\n",
       "      <td>0.65</td>\n",
       "      <td>9.8</td>\n",
       "      <td>5</td>\n",
       "    </tr>\n",
       "    <tr>\n",
       "      <th>3</th>\n",
       "      <td>11.2</td>\n",
       "      <td>0.28</td>\n",
       "      <td>0.56</td>\n",
       "      <td>1.9</td>\n",
       "      <td>0.075</td>\n",
       "      <td>17.0</td>\n",
       "      <td>60.0</td>\n",
       "      <td>0.9980</td>\n",
       "      <td>3.16</td>\n",
       "      <td>0.58</td>\n",
       "      <td>9.8</td>\n",
       "      <td>6</td>\n",
       "    </tr>\n",
       "    <tr>\n",
       "      <th>4</th>\n",
       "      <td>7.4</td>\n",
       "      <td>0.70</td>\n",
       "      <td>0.00</td>\n",
       "      <td>1.9</td>\n",
       "      <td>0.076</td>\n",
       "      <td>11.0</td>\n",
       "      <td>34.0</td>\n",
       "      <td>0.9978</td>\n",
       "      <td>3.51</td>\n",
       "      <td>0.56</td>\n",
       "      <td>9.4</td>\n",
       "      <td>5</td>\n",
       "    </tr>\n",
       "  </tbody>\n",
       "</table>\n",
       "</div>"
      ],
      "text/plain": [
       "   fixed acidity  volatile acidity  citric acid  residual sugar  chlorides  \\\n",
       "0            7.4              0.70         0.00             1.9      0.076   \n",
       "1            7.8              0.88         0.00             2.6      0.098   \n",
       "2            7.8              0.76         0.04             2.3      0.092   \n",
       "3           11.2              0.28         0.56             1.9      0.075   \n",
       "4            7.4              0.70         0.00             1.9      0.076   \n",
       "\n",
       "   free sulfur dioxide  total sulfur dioxide  density    pH  sulphates  \\\n",
       "0                 11.0                  34.0   0.9978  3.51       0.56   \n",
       "1                 25.0                  67.0   0.9968  3.20       0.68   \n",
       "2                 15.0                  54.0   0.9970  3.26       0.65   \n",
       "3                 17.0                  60.0   0.9980  3.16       0.58   \n",
       "4                 11.0                  34.0   0.9978  3.51       0.56   \n",
       "\n",
       "   alcohol  quality  \n",
       "0      9.4        5  \n",
       "1      9.8        5  \n",
       "2      9.8        5  \n",
       "3      9.8        6  \n",
       "4      9.4        5  "
      ]
     },
     "execution_count": 49,
     "metadata": {},
     "output_type": "execute_result"
    }
   ],
   "source": [
    "df.head()"
   ]
  },
  {
   "cell_type": "code",
   "execution_count": 50,
   "id": "8133cea6-2add-41d1-8d73-67655c43cc2c",
   "metadata": {},
   "outputs": [],
   "source": [
    "target_name ='quality'\n",
    "y = df['quality']\n",
    "X = df.drop(target_name,axis=1)"
   ]
  },
  {
   "cell_type": "code",
   "execution_count": 51,
   "id": "1f6afd12-f9ec-406a-bc9b-3b71367cfb0e",
   "metadata": {},
   "outputs": [
    {
     "data": {
      "text/plain": [
       "(1599, 11)"
      ]
     },
     "execution_count": 51,
     "metadata": {},
     "output_type": "execute_result"
    }
   ],
   "source": [
    "X.shape"
   ]
  },
  {
   "cell_type": "code",
   "execution_count": 53,
   "id": "cad04957-a151-42ed-af4b-e5f53601175a",
   "metadata": {},
   "outputs": [
    {
     "data": {
      "text/plain": [
       "0    5\n",
       "1    5\n",
       "2    5\n",
       "3    6\n",
       "4    5\n",
       "Name: quality, dtype: int64"
      ]
     },
     "execution_count": 53,
     "metadata": {},
     "output_type": "execute_result"
    }
   ],
   "source": [
    "y.head()"
   ]
  },
  {
   "cell_type": "code",
   "execution_count": 54,
   "id": "b5a95b98-612f-4380-be39-4262c14aa521",
   "metadata": {},
   "outputs": [
    {
     "data": {
      "text/plain": [
       "array([5, 6, 7, 4, 8, 3], dtype=int64)"
      ]
     },
     "execution_count": 54,
     "metadata": {},
     "output_type": "execute_result"
    }
   ],
   "source": [
    "y.unique()  #6 classes #Multiclass classification Problem"
   ]
  },
  {
   "cell_type": "code",
   "execution_count": 56,
   "id": "e30312a6-d547-4475-a3fb-d643fd8ad646",
   "metadata": {},
   "outputs": [],
   "source": [
    "# Scaling "
   ]
  },
  {
   "cell_type": "code",
   "execution_count": 57,
   "id": "1ba8c97d-4f21-4eac-8a68-70a8fe40f75f",
   "metadata": {},
   "outputs": [],
   "source": [
    "from sklearn.preprocessing import StandardScaler\n",
    "sc = StandardScaler()\n",
    "X_scale =sc.fit_transform(X)"
   ]
  },
  {
   "cell_type": "code",
   "execution_count": 58,
   "id": "13be9f95-680c-4476-8772-cf89304de31a",
   "metadata": {},
   "outputs": [],
   "source": [
    "from sklearn.model_selection import train_test_split\n",
    "X_train,X_test,y_train,y_test = train_test_split(X_scale,y,test_size=0.2,random_state=0)"
   ]
  },
  {
   "cell_type": "code",
   "execution_count": 60,
   "id": "0fb449b4-df09-442b-9171-d3d6438859b9",
   "metadata": {},
   "outputs": [
    {
     "data": {
      "text/plain": [
       "((1279, 11), (1279,))"
      ]
     },
     "execution_count": 60,
     "metadata": {},
     "output_type": "execute_result"
    }
   ],
   "source": [
    "X_train.shape,y_train.shape"
   ]
  },
  {
   "cell_type": "code",
   "execution_count": 61,
   "id": "7be43557-355a-495e-9f87-35694693ca77",
   "metadata": {},
   "outputs": [
    {
     "data": {
      "text/plain": [
       "((320, 11), (320,))"
      ]
     },
     "execution_count": 61,
     "metadata": {},
     "output_type": "execute_result"
    }
   ],
   "source": [
    "X_test.shape,y_test.shape"
   ]
  },
  {
   "cell_type": "code",
   "execution_count": 62,
   "id": "3c9ee77e-9f33-424a-a954-45ad51741b20",
   "metadata": {},
   "outputs": [],
   "source": [
    "#lda can be used for dimension reduction "
   ]
  },
  {
   "cell_type": "code",
   "execution_count": 63,
   "id": "faf1e1ba-343a-48ee-8e44-7ed05d23d9ba",
   "metadata": {},
   "outputs": [],
   "source": [
    "from sklearn.discriminant_analysis import LinearDiscriminantAnalysis as LDA\n",
    "lda = LDA(n_components=5)   #no of components is equal to no of target variable classes -1\n",
    "x_train_lda = lda.fit_transform(X_train,y_train)\n",
    "x_test_lda = lda.transform(X_test)"
   ]
  },
  {
   "cell_type": "code",
   "execution_count": 64,
   "id": "5e0b6517-5647-4d7f-b0fc-ff5079fb6380",
   "metadata": {},
   "outputs": [
    {
     "data": {
      "text/plain": [
       "((1279, 5), (320, 5))"
      ]
     },
     "execution_count": 64,
     "metadata": {},
     "output_type": "execute_result"
    }
   ],
   "source": [
    "x_train_lda.shape,x_test_lda.shape"
   ]
  },
  {
   "cell_type": "code",
   "execution_count": 65,
   "id": "7fa3157b-3d91-48c5-b95d-d09ccf33c5d7",
   "metadata": {},
   "outputs": [
    {
     "data": {
      "text/plain": [
       "array([0.82863687, 0.12032383, 0.03227525, 0.01666889, 0.00209516])"
      ]
     },
     "execution_count": 65,
     "metadata": {},
     "output_type": "execute_result"
    }
   ],
   "source": [
    "lda.explained_variance_ratio_"
   ]
  },
  {
   "cell_type": "code",
   "execution_count": 67,
   "id": "09bdb82b-77d6-46c6-be7d-5c5c5a746353",
   "metadata": {},
   "outputs": [
    {
     "data": {
      "text/plain": [
       "1.0"
      ]
     },
     "execution_count": 67,
     "metadata": {},
     "output_type": "execute_result"
    }
   ],
   "source": [
    "0.82863687+ 0.12032383+ 0.03227525+ 0.01666889+ 0.00209516"
   ]
  },
  {
   "cell_type": "code",
   "execution_count": 71,
   "id": "a7db4a89-8d4d-4e23-b65b-60af92c66a7c",
   "metadata": {},
   "outputs": [
    {
     "data": {
      "image/png": "[encoded data removed]",
      "text/plain": [
       "<Figure size 640x480 with 1 Axes>"
      ]
     },
     "metadata": {},
     "output_type": "display_data"
    }
   ],
   "source": [
    "colors = ['royalblue','red','deeppink','maroon','mediumorchid','tan','forestgreen','olive','goldenrod','lightcyan','navyblue']\n",
    "vectorizer = np.vectorize(lambda x:colors[x%len(colors)])\n",
    "plt.scatter(x_train_lda[:,0],x_train_lda[:,1],c=vectorizer(y_train))\n",
    "plt.grid()\n"
   ]
  },
  {
   "cell_type": "code",
   "execution_count": 88,
   "id": "838510d8-5b9d-417a-8b9b-6a425d734ca0",
   "metadata": {},
   "outputs": [],
   "source": [
    "#Logistic Regression model on 5 components"
   ]
  },
  {
   "cell_type": "code",
   "execution_count": 74,
   "id": "84910636-2826-4730-94be-3f6bbaf3b615",
   "metadata": {},
   "outputs": [
    {
     "name": "stdout",
     "output_type": "stream",
     "text": [
      "Total execution time with LDA is  0:00:00.028037\n"
     ]
    }
   ],
   "source": [
    "from sklearn.linear_model import LogisticRegression\n",
    "import datetime\n",
    "start = datetime.datetime.now()\n",
    "lg = LogisticRegression(random_state=0)\n",
    "lg.fit(x_train_lda,y_train)\n",
    "end = datetime.datetime.now()\n",
    "print(\"Total execution time with LDA is \",end-start)"
   ]
  },
  {
   "cell_type": "code",
   "execution_count": 78,
   "id": "a3f9622b-6294-4cd5-80da-24fb498278b2",
   "metadata": {},
   "outputs": [],
   "source": [
    "y_pred_lda = lg.predict(x_test_lda)"
   ]
  },
  {
   "cell_type": "code",
   "execution_count": 79,
   "id": "c56b159e-ac71-4c12-89a3-3cbda195584f",
   "metadata": {},
   "outputs": [
    {
     "data": {
      "text/plain": [
       "(320,)"
      ]
     },
     "execution_count": 79,
     "metadata": {},
     "output_type": "execute_result"
    }
   ],
   "source": [
    "y_pred_lda.shape"
   ]
  },
  {
   "cell_type": "code",
   "execution_count": 80,
   "id": "52f204b1-b547-4aed-8286-eff48aee5043",
   "metadata": {},
   "outputs": [
    {
     "name": "stdout",
     "output_type": "stream",
     "text": [
      "[[  0   0   2   0   0   0]\n",
      " [  0   0   6   4   1   0]\n",
      " [  0   0 104  31   0   0]\n",
      " [  0   0  37  89  16   0]\n",
      " [  0   0   2  17   8   0]\n",
      " [  0   0   0   1   2   0]]\n"
     ]
    }
   ],
   "source": [
    "from sklearn.metrics import confusion_matrix,accuracy_score,classification_report\n",
    "cm = confusion_matrix(y_test,y_pred_lda)\n",
    "#sns.heatmap(cm,annot=True)\n",
    "print(cm)"
   ]
  },
  {
   "cell_type": "code",
   "execution_count": 85,
   "id": "a21465ef-f9c8-4e7b-9185-50697bbd1085",
   "metadata": {},
   "outputs": [
    {
     "name": "stdout",
     "output_type": "stream",
     "text": [
      "Test Accuracy on 11-features =  62.81250000000001\n"
     ]
    }
   ],
   "source": [
    "from sklearn import metrics\n",
    "print(\"Test Accuracy on 5 components = \" , metrics.accuracy_score(y_test, y_pred_lda) *100)"
   ]
  },
  {
   "cell_type": "code",
   "execution_count": 86,
   "id": "e0f961f6-348d-4804-9009-3588a39cba43",
   "metadata": {},
   "outputs": [
    {
     "name": "stdout",
     "output_type": "stream",
     "text": [
      "Classification report with LDA on 5 components: \n",
      "               precision    recall  f1-score   support\n",
      "\n",
      "           3     0.0000    0.0000    0.0000         2\n",
      "           4     0.0000    0.0000    0.0000        11\n",
      "           5     0.6887    0.7704    0.7273       135\n",
      "           6     0.6268    0.6268    0.6268       142\n",
      "           7     0.2963    0.2963    0.2963        27\n",
      "           8     0.0000    0.0000    0.0000         3\n",
      "\n",
      "    accuracy                         0.6281       320\n",
      "   macro avg     0.2686    0.2822    0.2751       320\n",
      "weighted avg     0.5937    0.6281    0.6099       320\n",
      "\n"
     ]
    },
    {
     "name": "stderr",
     "output_type": "stream",
     "text": [
      "C:\\ProgramData\\anaconda3\\Lib\\site-packages\\sklearn\\metrics\\_classification.py:1344: UndefinedMetricWarning: Precision and F-score are ill-defined and being set to 0.0 in labels with no predicted samples. Use `zero_division` parameter to control this behavior.\n",
      "  _warn_prf(average, modifier, msg_start, len(result))\n",
      "C:\\ProgramData\\anaconda3\\Lib\\site-packages\\sklearn\\metrics\\_classification.py:1344: UndefinedMetricWarning: Precision and F-score are ill-defined and being set to 0.0 in labels with no predicted samples. Use `zero_division` parameter to control this behavior.\n",
      "  _warn_prf(average, modifier, msg_start, len(result))\n",
      "C:\\ProgramData\\anaconda3\\Lib\\site-packages\\sklearn\\metrics\\_classification.py:1344: UndefinedMetricWarning: Precision and F-score are ill-defined and being set to 0.0 in labels with no predicted samples. Use `zero_division` parameter to control this behavior.\n",
      "  _warn_prf(average, modifier, msg_start, len(result))\n"
     ]
    }
   ],
   "source": [
    "print(\"Classification report with LDA on 5 components: \\n\", classification_report(y_test,y_pred_lda,digits=4))"
   ]
  },
  {
   "cell_type": "code",
   "execution_count": null,
   "id": "7275e0a2-9830-46b8-b5cf-f5161a4a1ba0",
   "metadata": {},
   "outputs": [],
   "source": []
  },
  {
   "cell_type": "code",
   "execution_count": null,
   "id": "34e45e57-15aa-4208-a616-f4b63086c862",
   "metadata": {},
   "outputs": [],
   "source": []
  },
  {
   "cell_type": "code",
   "execution_count": null,
   "id": "df8be5b7-8232-4f3f-8fc1-24283b769b8c",
   "metadata": {},
   "outputs": [],
   "source": []
  },
  {
   "cell_type": "code",
   "execution_count": 87,
   "id": "bfb1cecd-ea7c-4b4e-ae5a-feae33563f52",
   "metadata": {},
   "outputs": [],
   "source": [
    "#Apply Logistic Regression Model on 11 features"
   ]
  },
  {
   "cell_type": "code",
   "execution_count": 97,
   "id": "4e3cc5f0-fe60-4f78-8553-c2e09efebd05",
   "metadata": {},
   "outputs": [
    {
     "name": "stdout",
     "output_type": "stream",
     "text": [
      "Total execution time with LDA is  0:00:00.271286\n"
     ]
    },
    {
     "name": "stderr",
     "output_type": "stream",
     "text": [
      "C:\\ProgramData\\anaconda3\\Lib\\site-packages\\sklearn\\linear_model\\_logistic.py:458: ConvergenceWarning: lbfgs failed to converge (status=1):\n",
      "STOP: TOTAL NO. of ITERATIONS REACHED LIMIT.\n",
      "\n",
      "Increase the number of iterations (max_iter) or scale the data as shown in:\n",
      "    https://scikit-learn.org/stable/modules/preprocessing.html\n",
      "Please also refer to the documentation for alternative solver options:\n",
      "    https://scikit-learn.org/stable/modules/linear_model.html#logistic-regression\n",
      "  n_iter_i = _check_optimize_result(\n"
     ]
    }
   ],
   "source": [
    "from sklearn.linear_model import LogisticRegression\n",
    "import datetime\n",
    "start = datetime.datetime.now()\n",
    "lg = LogisticRegression(random_state=0)\n",
    "lg.fit(X_train,y_train)\n",
    "end = datetime.datetime.now()\n",
    "print(\"Total execution time with LDA is \",end-start)"
   ]
  },
  {
   "cell_type": "code",
   "execution_count": 98,
   "id": "8156ed1c-93ed-4402-9dc5-d92f1b79f0e6",
   "metadata": {},
   "outputs": [],
   "source": [
    "y_pred = lg.predict(X_test)"
   ]
  },
  {
   "cell_type": "code",
   "execution_count": 99,
   "id": "423e93cb-0980-4aaf-87c4-5b375319cfa3",
   "metadata": {},
   "outputs": [
    {
     "name": "stdout",
     "output_type": "stream",
     "text": [
      "[[  0   0   2   0   0   0]\n",
      " [  0   0   6   4   1   0]\n",
      " [  0   0 104  30   1   0]\n",
      " [  0   0  37  90  15   0]\n",
      " [  0   0   2  16   9   0]\n",
      " [  0   0   0   1   2   0]]\n"
     ]
    }
   ],
   "source": [
    "from sklearn.metrics import confusion_matrix,accuracy_score,classification_report\n",
    "cml = confusion_matrix(y_test,y_pred)\n",
    "#sns.heatmap(cm,annot=True)\n",
    "print(cml)"
   ]
  },
  {
   "cell_type": "code",
   "execution_count": 100,
   "id": "d9348128-c735-424f-bbd1-d7b329abc1ce",
   "metadata": {},
   "outputs": [
    {
     "name": "stdout",
     "output_type": "stream",
     "text": [
      "Test Accuracy on 11 features =  63.4375\n"
     ]
    }
   ],
   "source": [
    "from sklearn import metrics\n",
    "print(\"Test Accuracy on 11 features = \" , metrics.accuracy_score(y_test, y_pred) *100)"
   ]
  },
  {
   "cell_type": "code",
   "execution_count": 101,
   "id": "a7b81c03-b3f0-466e-93d1-43dd1f00cc55",
   "metadata": {},
   "outputs": [
    {
     "name": "stdout",
     "output_type": "stream",
     "text": [
      "Classification report with LDA on 5 components: \n",
      "               precision    recall  f1-score   support\n",
      "\n",
      "           3     0.0000    0.0000    0.0000         2\n",
      "           4     0.0000    0.0000    0.0000        11\n",
      "           5     0.6887    0.7704    0.7273       135\n",
      "           6     0.6383    0.6338    0.6360       142\n",
      "           7     0.3214    0.3333    0.3273        27\n",
      "           8     0.0000    0.0000    0.0000         3\n",
      "\n",
      "    accuracy                         0.6344       320\n",
      "   macro avg     0.2747    0.2896    0.2818       320\n",
      "weighted avg     0.6009    0.6344    0.6167       320\n",
      "\n"
     ]
    },
    {
     "name": "stderr",
     "output_type": "stream",
     "text": [
      "C:\\ProgramData\\anaconda3\\Lib\\site-packages\\sklearn\\metrics\\_classification.py:1344: UndefinedMetricWarning: Precision and F-score are ill-defined and being set to 0.0 in labels with no predicted samples. Use `zero_division` parameter to control this behavior.\n",
      "  _warn_prf(average, modifier, msg_start, len(result))\n",
      "C:\\ProgramData\\anaconda3\\Lib\\site-packages\\sklearn\\metrics\\_classification.py:1344: UndefinedMetricWarning: Precision and F-score are ill-defined and being set to 0.0 in labels with no predicted samples. Use `zero_division` parameter to control this behavior.\n",
      "  _warn_prf(average, modifier, msg_start, len(result))\n",
      "C:\\ProgramData\\anaconda3\\Lib\\site-packages\\sklearn\\metrics\\_classification.py:1344: UndefinedMetricWarning: Precision and F-score are ill-defined and being set to 0.0 in labels with no predicted samples. Use `zero_division` parameter to control this behavior.\n",
      "  _warn_prf(average, modifier, msg_start, len(result))\n"
     ]
    }
   ],
   "source": [
    "print(\"Classification report with LDA on 5 components: \\n\", classification_report(y_test,y_pred,digits=4))"
   ]
  },
  {
   "cell_type": "code",
   "execution_count": null,
   "id": "f30ec2af-e326-4327-b5ab-0f4623f5e2f5",
   "metadata": {},
   "outputs": [],
   "source": []
  }
 ],
 "metadata": {
  "kernelspec": {
   "display_name": "Python 3 (ipykernel)",
   "language": "python",
   "name": "python3"
  },
  "language_info": {
   "codemirror_mode": {
    "name": "ipython",
    "version": 3
   },
   "file_extension": ".py",
   "mimetype": "text/x-python",
   "name": "python",
   "nbconvert_exporter": "python",
   "pygments_lexer": "ipython3",
   "version": "3.11.7"
  }
 },
 "nbformat": 4,
 "nbformat_minor": 5
}
